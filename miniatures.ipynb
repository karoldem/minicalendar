{
  "nbformat": 4,
  "nbformat_minor": 0,
  "metadata": {
    "colab": {
      "provenance": [],
      "authorship_tag": "ABX9TyNytc+IGAGQ3v9f1zv2wE+C",
      "include_colab_link": true
    },
    "kernelspec": {
      "name": "python3",
      "display_name": "Python 3"
    },
    "language_info": {
      "name": "python"
    }
  },
  "cells": [
    {
      "cell_type": "markdown",
      "metadata": {
        "id": "view-in-github",
        "colab_type": "text"
      },
      "source": [
        "<a href=\"https://colab.research.google.com/github/karoldem/minicalendar/blob/miniatures.ipynb/miniatures.ipynb\" target=\"_parent\"><img src=\"https://colab.research.google.com/assets/colab-badge.svg\" alt=\"Open In Colab\"/></a>"
      ]
    },
    {
      "cell_type": "code",
      "source": [
        "from googleapiclient.discovery import build\n",
        "from google.oauth2 import service_account\n",
        "import json\n",
        "import cv2\n",
        "import numpy as np\n",
        "import requests\n",
        "from googleapiclient.http import MediaFileUpload\n",
        "from google.colab import userdata\n",
        "\n",
        "# Setup\n",
        "creds = service_account.Credentials.from_service_account_info(\n",
        "    json.loads(userdata.get('slidesAPI')),\n",
        "    scopes=[\"https://www.googleapis.com/auth/drive\", \"https://www.googleapis.com/auth/presentations\"]\n",
        ")\n",
        "drive_service = build(\"drive\", \"v3\", credentials=creds)\n",
        "slides_service = build(\"slides\", \"v1\", credentials=creds)\n",
        "\n",
        "PRESENTATION_ID = '16XcadkghKtzrdaywqfpLGV-p1jkqjWCFY8RG9PelPKg'\n",
        "presentation = slides_service.presentations().get(presentationId=PRESENTATION_ID).execute()\n",
        "\n",
        "# Get image data\n",
        "images = []\n",
        "for slide in presentation.get('slides', []):\n",
        "    for element in slide.get('pageElements', []):\n",
        "        if 'image' in element:\n",
        "            images.append({\n",
        "                'contentUrl': element['image']['contentUrl'],\n",
        "                'sourceUrl': element['image'].get('sourceUrl'),\n",
        "                'crop': element['image'].get('imageProperties', {}).get('cropProperties', {}),\n",
        "                'transform': element['transform'],\n",
        "                'size': element['size'],\n",
        "                'pageId': slide['objectId']\n",
        "            })\n",
        "\n",
        "# Download image\n",
        "resp = requests.get(images[0]['contentUrl'])\n",
        "img_array = np.frombuffer(resp.content, np.uint8)\n",
        "img = cv2.imdecode(img_array, cv2.IMREAD_COLOR)\n",
        "\n",
        "# Crop\n",
        "h, w = img.shape[:2]\n",
        "left = images[0]['crop'].get('leftOffset', 0)\n",
        "right = images[0]['crop'].get('rightOffset', 0)\n",
        "top = images[0]['crop'].get('topOffset', 0)\n",
        "bottom = images[0]['crop'].get('bottomOffset', 0)\n",
        "\n",
        "x1 = int(w * left)\n",
        "x2 = int(w * (1 - right))\n",
        "y1 = int(h * top)\n",
        "y2 = int(h * (1 - bottom)) if bottom else h\n",
        "\n",
        "cropped = img[y1:y2, x1:x2]\n",
        "\n",
        "# Save cropped to file\n",
        "cv2.imwrite(\"cropped.jpg\", cropped)\n",
        "\n",
        "# Upload to Drive\n",
        "file_metadata = {'name': 'cropped.jpg', 'mimeType': 'image/jpeg'}\n",
        "media = MediaFileUpload('cropped.jpg', mimetype='image/jpeg')\n",
        "uploaded = drive_service.files().create(body=file_metadata, media_body=media, fields='id').execute()\n",
        "file_id = uploaded.get('id')\n",
        "\n",
        "# Make file public\n",
        "drive_service.permissions().create(\n",
        "    fileId=file_id,\n",
        "    body={\"role\": \"reader\", \"type\": \"anyone\"},\n",
        ").execute()\n",
        "\n",
        "# Build URL\n",
        "image_url = f\"https://drive.google.com/uc?export=view&id={file_id}\"\n",
        "\n",
        "# Insert into Slides\n",
        "requests_body = [\n",
        "    {\n",
        "        \"createImage\": {\n",
        "            \"url\": image_url,\n",
        "            \"elementProperties\": {\n",
        "                \"pageObjectId\": images[0]['pageId'],\n",
        "                \"size\": images[0]['size'],\n",
        "                \"transform\": images[0]['transform']\n",
        "            }\n",
        "        }\n",
        "    }\n",
        "]\n",
        "\n",
        "slides_service.presentations().batchUpdate(\n",
        "    presentationId=PRESENTATION_ID,\n",
        "    body={'requests': requests_body}\n",
        ").execute()\n",
        "\n",
        "# Delete uploaded image\n",
        "drive_service.files().delete(fileId=file_id).execute()\n"
      ],
      "metadata": {
        "colab": {
          "base_uri": "https://localhost:8080/",
          "height": 35
        },
        "id": "Yq95xaigG2Nd",
        "outputId": "cf0d0c42-3409-40b3-8b09-e2766f3cdca2"
      },
      "execution_count": 2,
      "outputs": [
        {
          "output_type": "execute_result",
          "data": {
            "text/plain": [
              "''"
            ],
            "application/vnd.google.colaboratory.intrinsic+json": {
              "type": "string"
            }
          },
          "metadata": {},
          "execution_count": 2
        }
      ]
    }
  ]
}