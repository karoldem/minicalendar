{
  "nbformat": 4,
  "nbformat_minor": 0,
  "metadata": {
    "colab": {
      "provenance": [],
      "authorship_tag": "ABX9TyMOZR/ZjTh2DSoa7x8bY+JK",
      "include_colab_link": true
    },
    "kernelspec": {
      "name": "python3",
      "display_name": "Python 3"
    },
    "language_info": {
      "name": "python"
    }
  },
  "cells": [
    {
      "cell_type": "markdown",
      "metadata": {
        "id": "view-in-github",
        "colab_type": "text"
      },
      "source": [
        "<a href=\"https://colab.research.google.com/github/karoldem/minicalendar/blob/main/miniatures.ipynb\" target=\"_parent\"><img src=\"https://colab.research.google.com/assets/colab-badge.svg\" alt=\"Open In Colab\"/></a>"
      ]
    },
    {
      "cell_type": "code",
      "execution_count": 1,
      "metadata": {
        "colab": {
          "base_uri": "https://localhost:8080/",
          "height": 356
        },
        "id": "pKDWXOJEv6i9",
        "outputId": "2aa4abfc-d3ce-4f56-a3bb-631d93ae7cae"
      },
      "outputs": [
        {
          "output_type": "error",
          "ename": "MessageError",
          "evalue": "Error: credential propagation was unsuccessful",
          "traceback": [
            "\u001b[0;31m---------------------------------------------------------------------------\u001b[0m",
            "\u001b[0;31mMessageError\u001b[0m                              Traceback (most recent call last)",
            "\u001b[0;32m<ipython-input-1-bdc282a1fbe1>\u001b[0m in \u001b[0;36m<cell line: 0>\u001b[0;34m()\u001b[0m\n\u001b[1;32m      5\u001b[0m \u001b[0;32mfrom\u001b[0m \u001b[0mgoogle\u001b[0m\u001b[0;34m.\u001b[0m\u001b[0mcolab\u001b[0m \u001b[0;32mimport\u001b[0m \u001b[0mdrive\u001b[0m\u001b[0;34m\u001b[0m\u001b[0;34m\u001b[0m\u001b[0m\n\u001b[1;32m      6\u001b[0m \u001b[0;34m\u001b[0m\u001b[0m\n\u001b[0;32m----> 7\u001b[0;31m \u001b[0mdrive\u001b[0m\u001b[0;34m.\u001b[0m\u001b[0mmount\u001b[0m\u001b[0;34m(\u001b[0m\u001b[0;34m'/content/drive'\u001b[0m\u001b[0;34m)\u001b[0m\u001b[0;34m\u001b[0m\u001b[0;34m\u001b[0m\u001b[0m\n\u001b[0m\u001b[1;32m      8\u001b[0m \u001b[0;34m\u001b[0m\u001b[0m\n\u001b[1;32m      9\u001b[0m \u001b[0;32mfrom\u001b[0m \u001b[0mgoogleapiclient\u001b[0m\u001b[0;34m.\u001b[0m\u001b[0mdiscovery\u001b[0m \u001b[0;32mimport\u001b[0m \u001b[0mbuild\u001b[0m\u001b[0;34m\u001b[0m\u001b[0;34m\u001b[0m\u001b[0m\n",
            "\u001b[0;32m/usr/local/lib/python3.11/dist-packages/google/colab/drive.py\u001b[0m in \u001b[0;36mmount\u001b[0;34m(mountpoint, force_remount, timeout_ms, readonly)\u001b[0m\n\u001b[1;32m     98\u001b[0m \u001b[0;32mdef\u001b[0m \u001b[0mmount\u001b[0m\u001b[0;34m(\u001b[0m\u001b[0mmountpoint\u001b[0m\u001b[0;34m,\u001b[0m \u001b[0mforce_remount\u001b[0m\u001b[0;34m=\u001b[0m\u001b[0;32mFalse\u001b[0m\u001b[0;34m,\u001b[0m \u001b[0mtimeout_ms\u001b[0m\u001b[0;34m=\u001b[0m\u001b[0;36m120000\u001b[0m\u001b[0;34m,\u001b[0m \u001b[0mreadonly\u001b[0m\u001b[0;34m=\u001b[0m\u001b[0;32mFalse\u001b[0m\u001b[0;34m)\u001b[0m\u001b[0;34m:\u001b[0m\u001b[0;34m\u001b[0m\u001b[0;34m\u001b[0m\u001b[0m\n\u001b[1;32m     99\u001b[0m   \u001b[0;34m\"\"\"Mount your Google Drive at the specified mountpoint path.\"\"\"\u001b[0m\u001b[0;34m\u001b[0m\u001b[0;34m\u001b[0m\u001b[0m\n\u001b[0;32m--> 100\u001b[0;31m   return _mount(\n\u001b[0m\u001b[1;32m    101\u001b[0m       \u001b[0mmountpoint\u001b[0m\u001b[0;34m,\u001b[0m\u001b[0;34m\u001b[0m\u001b[0;34m\u001b[0m\u001b[0m\n\u001b[1;32m    102\u001b[0m       \u001b[0mforce_remount\u001b[0m\u001b[0;34m=\u001b[0m\u001b[0mforce_remount\u001b[0m\u001b[0;34m,\u001b[0m\u001b[0;34m\u001b[0m\u001b[0;34m\u001b[0m\u001b[0m\n",
            "\u001b[0;32m/usr/local/lib/python3.11/dist-packages/google/colab/drive.py\u001b[0m in \u001b[0;36m_mount\u001b[0;34m(mountpoint, force_remount, timeout_ms, ephemeral, readonly)\u001b[0m\n\u001b[1;32m    135\u001b[0m   )\n\u001b[1;32m    136\u001b[0m   \u001b[0;32mif\u001b[0m \u001b[0mephemeral\u001b[0m\u001b[0;34m:\u001b[0m\u001b[0;34m\u001b[0m\u001b[0;34m\u001b[0m\u001b[0m\n\u001b[0;32m--> 137\u001b[0;31m     _message.blocking_request(\n\u001b[0m\u001b[1;32m    138\u001b[0m         \u001b[0;34m'request_auth'\u001b[0m\u001b[0;34m,\u001b[0m\u001b[0;34m\u001b[0m\u001b[0;34m\u001b[0m\u001b[0m\n\u001b[1;32m    139\u001b[0m         \u001b[0mrequest\u001b[0m\u001b[0;34m=\u001b[0m\u001b[0;34m{\u001b[0m\u001b[0;34m'authType'\u001b[0m\u001b[0;34m:\u001b[0m \u001b[0;34m'dfs_ephemeral'\u001b[0m\u001b[0;34m}\u001b[0m\u001b[0;34m,\u001b[0m\u001b[0;34m\u001b[0m\u001b[0;34m\u001b[0m\u001b[0m\n",
            "\u001b[0;32m/usr/local/lib/python3.11/dist-packages/google/colab/_message.py\u001b[0m in \u001b[0;36mblocking_request\u001b[0;34m(request_type, request, timeout_sec, parent)\u001b[0m\n\u001b[1;32m    174\u001b[0m       \u001b[0mrequest_type\u001b[0m\u001b[0;34m,\u001b[0m \u001b[0mrequest\u001b[0m\u001b[0;34m,\u001b[0m \u001b[0mparent\u001b[0m\u001b[0;34m=\u001b[0m\u001b[0mparent\u001b[0m\u001b[0;34m,\u001b[0m \u001b[0mexpect_reply\u001b[0m\u001b[0;34m=\u001b[0m\u001b[0;32mTrue\u001b[0m\u001b[0;34m\u001b[0m\u001b[0;34m\u001b[0m\u001b[0m\n\u001b[1;32m    175\u001b[0m   )\n\u001b[0;32m--> 176\u001b[0;31m   \u001b[0;32mreturn\u001b[0m \u001b[0mread_reply_from_input\u001b[0m\u001b[0;34m(\u001b[0m\u001b[0mrequest_id\u001b[0m\u001b[0;34m,\u001b[0m \u001b[0mtimeout_sec\u001b[0m\u001b[0;34m)\u001b[0m\u001b[0;34m\u001b[0m\u001b[0;34m\u001b[0m\u001b[0m\n\u001b[0m",
            "\u001b[0;32m/usr/local/lib/python3.11/dist-packages/google/colab/_message.py\u001b[0m in \u001b[0;36mread_reply_from_input\u001b[0;34m(message_id, timeout_sec)\u001b[0m\n\u001b[1;32m    101\u001b[0m     ):\n\u001b[1;32m    102\u001b[0m       \u001b[0;32mif\u001b[0m \u001b[0;34m'error'\u001b[0m \u001b[0;32min\u001b[0m \u001b[0mreply\u001b[0m\u001b[0;34m:\u001b[0m\u001b[0;34m\u001b[0m\u001b[0;34m\u001b[0m\u001b[0m\n\u001b[0;32m--> 103\u001b[0;31m         \u001b[0;32mraise\u001b[0m \u001b[0mMessageError\u001b[0m\u001b[0;34m(\u001b[0m\u001b[0mreply\u001b[0m\u001b[0;34m[\u001b[0m\u001b[0;34m'error'\u001b[0m\u001b[0;34m]\u001b[0m\u001b[0;34m)\u001b[0m\u001b[0;34m\u001b[0m\u001b[0;34m\u001b[0m\u001b[0m\n\u001b[0m\u001b[1;32m    104\u001b[0m       \u001b[0;32mreturn\u001b[0m \u001b[0mreply\u001b[0m\u001b[0;34m.\u001b[0m\u001b[0mget\u001b[0m\u001b[0;34m(\u001b[0m\u001b[0;34m'data'\u001b[0m\u001b[0;34m,\u001b[0m \u001b[0;32mNone\u001b[0m\u001b[0;34m)\u001b[0m\u001b[0;34m\u001b[0m\u001b[0;34m\u001b[0m\u001b[0m\n\u001b[1;32m    105\u001b[0m \u001b[0;34m\u001b[0m\u001b[0m\n",
            "\u001b[0;31mMessageError\u001b[0m: Error: credential propagation was unsuccessful"
          ]
        }
      ],
      "source": [
        "from google.colab import userdata\n",
        "from google.oauth2 import service_account\n",
        "from googleapiclient.discovery import build\n",
        "from json import loads\n",
        "from google.colab import drive\n",
        "\n",
        "drive.mount('/content/drive')\n",
        "\n",
        "from googleapiclient.discovery import build\n",
        "from google.colab import auth\n",
        "import os\n",
        "\n",
        "auth.authenticate_user()\n",
        "\n",
        "from google.auth.transport.requests import Request\n",
        "from google.oauth2.credentials import Credentials\n",
        "import google\n",
        "\n",
        "creds, _ = google.auth.default()\n",
        "drive_service = build('drive', 'v3', credentials=creds)\n",
        "\n",
        "SCOPES = ['https://www.googleapis.com/auth/presentations']\n",
        "\n",
        "creds = service_account.Credentials.from_service_account_info(\n",
        "    loads(userdata.get('slidesAPI')), scopes=SCOPES)\n",
        "\n",
        "service = build('slides', 'v1', credentials=creds)\n",
        "\n",
        "def make_file_public(file_id):\n",
        "    drive_service.permissions().create(\n",
        "        fileId=file_id,\n",
        "        body={\"role\": \"reader\", \"type\": \"anyone\"},\n",
        "    ).execute()"
      ]
    },
    {
      "cell_type": "code",
      "source": [
        "PRESENTATION_ID = '16XcadkghKtzrdaywqfpLGV-p1jkqjWCFY8RG9PelPKg'"
      ],
      "metadata": {
        "id": "883kDkuXDCz5"
      },
      "execution_count": null,
      "outputs": []
    },
    {
      "cell_type": "code",
      "source": [
        "import cv2\n",
        "import numpy as np\n",
        "import requests\n",
        "import base64\n",
        "\n",
        "url = 'https://www.hotelduo.cz/userfiles/23-a10ae65a.jpg'\n",
        "resp = requests.get(url)\n",
        "img_array = np.asarray(bytearray(resp.content), dtype=np.uint8)\n",
        "img = cv2.imdecode(img_array, cv2.IMREAD_COLOR)\n",
        "\n",
        "h, w = img.shape[:2]\n",
        "new_w = 100\n",
        "new_h = int(h * (new_w / w))\n",
        "resized = cv2.resize(img, (new_w, new_h), interpolation=cv2.INTER_AREA)\n",
        "cv2.imwrite('/content/drive/MyDrive/Kalendarz/output.jpg', resized)\n",
        "\n",
        "filename = 'output.jpg'\n",
        "\n",
        "# Search file in Drive\n",
        "results = drive_service.files().list(\n",
        "    q=f\"name='{filename}' and trashed = false\",\n",
        "    fields=\"files(id, name)\"\n",
        ").execute()\n",
        "\n",
        "items = results.get('files', [])\n",
        "if items:\n",
        "    file_id = items[0]['id']\n",
        "    print(\"File ID:\", file_id)\n",
        "else:\n",
        "    print(\"File not found\")\n"
      ],
      "metadata": {
        "colab": {
          "base_uri": "https://localhost:8080/"
        },
        "id": "bjJnuBkRHCZg",
        "outputId": "68650c5a-c52c-4fba-e1c1-9a22c3397f32"
      },
      "execution_count": null,
      "outputs": [
        {
          "output_type": "stream",
          "name": "stdout",
          "text": [
            "File ID: 1qUEin_uD6R8_1zjDb83Axm7yzWs48LWl\n"
          ]
        }
      ]
    },
    {
      "cell_type": "code",
      "source": [
        "fileID = '1qUEin_uD6R8_1zjDb83Axm7yzWs48LWl'\n",
        "make_file_public(fileID)"
      ],
      "metadata": {
        "id": "-HPBUPjFY4zF"
      },
      "execution_count": null,
      "outputs": []
    },
    {
      "cell_type": "code",
      "source": [
        "requests = [\n",
        "    {\n",
        "        \"createImage\": {\n",
        "            \"url\": f\"https://drive.google.com/uc?id={fileID}\",\n",
        "            \"elementProperties\": {\n",
        "                \"pageObjectId\": \"p\",  # replace with actual slide ID\n",
        "                \"size\": {\n",
        "                    \"height\": {\"magnitude\": 3000000, \"unit\": \"EMU\"},\n",
        "                    \"width\": {\"magnitude\": 3000000, \"unit\": \"EMU\"}\n",
        "                },\n",
        "                \"transform\": {\n",
        "                    \"scaleX\": 1,\n",
        "                    \"scaleY\": 1,\n",
        "                    \"translateX\": 100000,\n",
        "                    \"translateY\": 100000,\n",
        "                    \"unit\": \"EMU\"\n",
        "                }\n",
        "            }\n",
        "        }\n",
        "    }\n",
        "]\n",
        "\n",
        "response = service.presentations().batchUpdate(\n",
        "    presentationId=PRESENTATION_ID,\n",
        "    body={'requests': requests}\n",
        ").execute()\n"
      ],
      "metadata": {
        "id": "UduYhX-4Y_1J"
      },
      "execution_count": null,
      "outputs": []
    },
    {
      "cell_type": "code",
      "source": [
        "presentation = service.presentations().get(presentationId=PRESENTATION_ID).execute()\n",
        "images = []\n",
        "slides = []\n",
        "\n",
        "for slide in presentation.get('slides', []):\n",
        "    slides.append(slide)\n",
        "    for element in slide.get('pageElements', []):\n",
        "        if 'image' in element:\n",
        "            images.append(element)  # for public/shared files\n",
        "\n"
      ],
      "metadata": {
        "id": "w5Oe9SN3EMLS"
      },
      "execution_count": null,
      "outputs": []
    },
    {
      "cell_type": "code",
      "source": [
        "images[0]"
      ],
      "metadata": {
        "colab": {
          "base_uri": "https://localhost:8080/"
        },
        "id": "KX5gp7GMfsUQ",
        "outputId": "9450846e-2e06-45c9-d383-bcd619ff5add"
      },
      "execution_count": null,
      "outputs": [
        {
          "output_type": "execute_result",
          "data": {
            "text/plain": [
              "{'objectId': 'SLIDES_API1913182321_0',\n",
              " 'size': {'width': {'magnitude': 2500, 'unit': 'EMU'},\n",
              "  'height': {'magnitude': 1650, 'unit': 'EMU'}},\n",
              " 'transform': {'scaleX': 1313.7795,\n",
              "  'scaleY': 2949,\n",
              "  'translateX': 3780000,\n",
              "  'translateY': 5346000,\n",
              "  'unit': 'EMU'},\n",
              " 'image': {'contentUrl': 'https://lh7-rt.googleusercontent.com/slidesz/AGV_vUfgX_GhSjp-p_T2OpVa1gmuANP2hyn8AiqJ5-mt_NKoDOMeoMBrMkoZocKtRMEhEaLx6hjF1s36hyNcdXep74vOlF70OEccdeFKLsC0qlp5PSdGfEPnlEpc458RbTF_knz1edJxiA=nw?key=NoCa3dlGCO1NaAXsbyuZEEfV',\n",
              "  'imageProperties': {'cropProperties': {'leftOffset': 0.2695803,\n",
              "    'rightOffset': 0.28490603,\n",
              "    'topOffset': 0},\n",
              "   'outline': {'outlineFill': {'solidFill': {'color': {'themeColor': 'DARK2'},\n",
              "      'alpha': 1}},\n",
              "    'weight': {'magnitude': 9525, 'unit': 'EMU'},\n",
              "    'dashStyle': 'SOLID',\n",
              "    'propertyState': 'NOT_RENDERED'},\n",
              "   'shadow': {'type': 'OUTER',\n",
              "    'transform': {'scaleX': 1, 'scaleY': 1, 'unit': 'EMU'},\n",
              "    'alignment': 'BOTTOM_LEFT',\n",
              "    'blurRadius': {'unit': 'EMU'},\n",
              "    'color': {'rgbColor': {}},\n",
              "    'alpha': 1,\n",
              "    'rotateWithShape': False,\n",
              "    'propertyState': 'NOT_RENDERED'}},\n",
              "  'sourceUrl': 'https://drive.google.com/uc?id=1qUEin_uD6R8_1zjDb83Axm7yzWs48LWl'}}"
            ]
          },
          "metadata": {},
          "execution_count": 7
        }
      ]
    },
    {
      "cell_type": "code",
      "source": [
        "from googleapiclient.discovery import build\n",
        "from google.oauth2 import service_account\n",
        "import json\n",
        "import cv2\n",
        "import numpy as np\n",
        "import requests\n",
        "from googleapiclient.http import MediaFileUpload\n",
        "from google.colab import userdata\n",
        "\n",
        "# Setup\n",
        "creds = service_account.Credentials.from_service_account_info(\n",
        "    json.loads(userdata.get('slidesAPI')),\n",
        "    scopes=[\"https://www.googleapis.com/auth/drive\", \"https://www.googleapis.com/auth/presentations\"]\n",
        ")\n",
        "drive_service = build(\"drive\", \"v3\", credentials=creds)\n",
        "slides_service = build(\"slides\", \"v1\", credentials=creds)\n",
        "\n",
        "PRESENTATION_ID = '16XcadkghKtzrdaywqfpLGV-p1jkqjWCFY8RG9PelPKg'\n",
        "presentation = slides_service.presentations().get(presentationId=PRESENTATION_ID).execute()\n",
        "\n",
        "# Get image data\n",
        "images = []\n",
        "for slide in presentation.get('slides', []):\n",
        "    for element in slide.get('pageElements', []):\n",
        "        if 'image' in element:\n",
        "            images.append({\n",
        "                'contentUrl': element['image']['contentUrl'],\n",
        "                'sourceUrl': element['image'].get('sourceUrl'),\n",
        "                'crop': element['image'].get('imageProperties', {}).get('cropProperties', {}),\n",
        "                'transform': element['transform'],\n",
        "                'size': element['size'],\n",
        "                'pageId': slide['objectId']\n",
        "            })\n",
        "\n",
        "# Download image\n",
        "resp = requests.get(images[0]['contentUrl'])\n",
        "img_array = np.frombuffer(resp.content, np.uint8)\n",
        "img = cv2.imdecode(img_array, cv2.IMREAD_COLOR)\n",
        "\n",
        "# Crop\n",
        "h, w = img.shape[:2]\n",
        "left = images[0]['crop'].get('leftOffset', 0)\n",
        "right = images[0]['crop'].get('rightOffset', 0)\n",
        "top = images[0]['crop'].get('topOffset', 0)\n",
        "bottom = images[0]['crop'].get('bottomOffset', 0)\n",
        "\n",
        "x1 = int(w * left)\n",
        "x2 = int(w * (1 - right))\n",
        "y1 = int(h * top)\n",
        "y2 = int(h * (1 - bottom)) if bottom else h\n",
        "\n",
        "cropped = img[y1:y2, x1:x2]\n",
        "\n",
        "# Save cropped to file\n",
        "cv2.imwrite(\"cropped.jpg\", cropped)\n",
        "\n",
        "# Upload to Drive\n",
        "file_metadata = {'name': 'cropped.jpg', 'mimeType': 'image/jpeg'}\n",
        "media = MediaFileUpload('cropped.jpg', mimetype='image/jpeg')\n",
        "uploaded = drive_service.files().create(body=file_metadata, media_body=media, fields='id').execute()\n",
        "file_id = uploaded.get('id')\n",
        "\n",
        "# Make file public\n",
        "drive_service.permissions().create(\n",
        "    fileId=file_id,\n",
        "    body={\"role\": \"reader\", \"type\": \"anyone\"},\n",
        ").execute()\n",
        "\n",
        "# Build URL\n",
        "image_url = f\"https://drive.google.com/uc?export=view&id={file_id}\"\n",
        "\n",
        "# Insert into Slides\n",
        "requests_body = [\n",
        "    {\n",
        "        \"createImage\": {\n",
        "            \"url\": image_url,\n",
        "            \"elementProperties\": {\n",
        "                \"pageObjectId\": images[0]['pageId'],\n",
        "                \"size\": images[0]['size'],\n",
        "                \"transform\": images[0]['transform']\n",
        "            }\n",
        "        }\n",
        "    }\n",
        "]\n",
        "\n",
        "slides_service.presentations().batchUpdate(\n",
        "    presentationId=PRESENTATION_ID,\n",
        "    body={'requests': requests_body}\n",
        ").execute()\n",
        "\n",
        "# Delete uploaded image\n",
        "drive_service.files().delete(fileId=file_id).execute()\n"
      ],
      "metadata": {
        "colab": {
          "base_uri": "https://localhost:8080/",
          "height": 35
        },
        "id": "Yq95xaigG2Nd",
        "outputId": "cf0d0c42-3409-40b3-8b09-e2766f3cdca2"
      },
      "execution_count": 2,
      "outputs": [
        {
          "output_type": "execute_result",
          "data": {
            "text/plain": [
              "''"
            ],
            "application/vnd.google.colaboratory.intrinsic+json": {
              "type": "string"
            }
          },
          "metadata": {},
          "execution_count": 2
        }
      ]
    }
  ]
}